{
 "cells": [
  {
   "cell_type": "code",
   "execution_count": 4,
   "id": "1df051f0",
   "metadata": {},
   "outputs": [
    {
     "name": "stdout",
     "output_type": "stream",
     "text": [
      "Do you wish to encrypt or decrypt your text?\n",
      "Type in 'encrypt'or 'decrypt'.\n",
      "decrypt\n",
      "Type in your message.hu\n",
      "Please type in a key from 1 to 26.2\n",
      "fs"
     ]
    }
   ],
   "source": [
    "def cipher_app():\n",
    "    to_encrypt= \"\"\n",
    "    while to_encrypt not in [\"encrypt\",\"decrypt\"]:\n",
    "        to_encrypt=(input(\"Do you wish to encrypt or decrypt your text?\\nType in 'encrypt'or 'decrypt'.\\n\")).lower()\n",
    "    i=0\n",
    "    while i!=1:\n",
    "        message=input(\"Type in your message.\")\n",
    "        if message.isalpha():\n",
    "            i+=1\n",
    "    key=\"\"\n",
    "    rng_key=range(1,27)\n",
    "    while not key.isdigit():\n",
    "        key=input(\"Please type in a key from 1 to 26.\")\n",
    "    key=int(key)\n",
    "    result=\"\"\n",
    "    for character in message:\n",
    "        if to_encrypt== \"encrypt\":\n",
    "            ord_code= ord(character)+key\n",
    "            if character.isupper() and ord_code > ord('Z'):\n",
    "                    char_code = chr(ord_code - 26)\n",
    "            elif character.islower() and ord_code > ord('z'):\n",
    "                char_code = chr(ord_code - 26)\n",
    "            else:\n",
    "                char_code = chr(ord_code)\n",
    "        elif to_encrypt == \"decrypt\":\n",
    "            ord_code = ord(character) - key\n",
    "            if character.isupper() and ord_code < ord('A'):\n",
    "                char_code = chr(ord_code + 26)\n",
    "            elif character.islower() and ord_code < ord('a'):\n",
    "                char_code = chr(ord_code + 26)\n",
    "            else:\n",
    "                char_code = chr(ord_code)\n",
    "        result+= character\n",
    "        print(char_code, end=\"\")\n",
    "        \n",
    "cipher_app()"
   ]
  },
  {
   "cell_type": "code",
   "execution_count": null,
   "id": "67042686",
   "metadata": {},
   "outputs": [],
   "source": []
  }
 ],
 "metadata": {
  "kernelspec": {
   "display_name": "Python 3 (ipykernel)",
   "language": "python",
   "name": "python3"
  },
  "language_info": {
   "codemirror_mode": {
    "name": "ipython",
    "version": 3
   },
   "file_extension": ".py",
   "mimetype": "text/x-python",
   "name": "python",
   "nbconvert_exporter": "python",
   "pygments_lexer": "ipython3",
   "version": "3.11.5"
  }
 },
 "nbformat": 4,
 "nbformat_minor": 5
}
